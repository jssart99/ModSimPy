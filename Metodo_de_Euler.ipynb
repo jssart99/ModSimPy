{
  "nbformat": 4,
  "nbformat_minor": 0,
  "metadata": {
    "colab": {
      "name": "Metodo de Euler",
      "provenance": [],
      "authorship_tag": "ABX9TyNtKrx/vzNSdetDmlgtH5/8",
      "include_colab_link": true
    },
    "kernelspec": {
      "name": "python3",
      "display_name": "Python 3"
    }
  },
  "cells": [
    {
      "cell_type": "markdown",
      "metadata": {
        "id": "view-in-github",
        "colab_type": "text"
      },
      "source": [
        "<a href=\"https://colab.research.google.com/github/jssart99/ModSimPy/blob/master/Metodo_de_Euler.ipynb\" target=\"_parent\"><img src=\"https://colab.research.google.com/assets/colab-badge.svg\" alt=\"Open In Colab\"/></a>"
      ]
    },
    {
      "cell_type": "code",
      "metadata": {
        "id": "elNK5MPMDEKS",
        "colab_type": "code",
        "colab": {}
      },
      "source": [
        "#importar las librerias\n",
        "\n",
        "import numpy as np\n",
        "import matplotlib.pyplot as plt\n",
        "\n",
        "%matplotlib inline"
      ],
      "execution_count": 18,
      "outputs": []
    },
    {
      "cell_type": "code",
      "metadata": {
        "id": "SxBBTdZrD7sg",
        "colab_type": "code",
        "colab": {}
      },
      "source": [
        "def euler_sig(yn,h,f):\n",
        "  y_sig=yn+h*f(yn)\n",
        "  return y_sig\n",
        "\n",
        "def euler(y0,h,f,ti,tf):\n",
        "  N=int((tf-ti)/h)\n",
        "  t=np.linspace(ti,tf,N+1)\n",
        "\n",
        "  y=np.zeros(N+1)\n",
        "  y[0]=y0\n",
        "\n",
        "  for i in range(0,N):\n",
        "    y[i+1]=euler_sig(y[i],h,f)\n",
        "    \n",
        "  return t,y\n"
      ],
      "execution_count": 41,
      "outputs": []
    },
    {
      "cell_type": "code",
      "metadata": {
        "id": "lYG1ZaMAF6yI",
        "colab_type": "code",
        "colab": {
          "base_uri": "https://localhost:8080/",
          "height": 283
        },
        "outputId": "5d352009-be08-48df-bf89-8a5c7fa92a13"
      },
      "source": [
        "def g(y):\n",
        "  crecimiento=np.log(2)*y\n",
        "  return crecimiento\n",
        "\n",
        "# Inicialzar (Valores de las variables)\n",
        "h=0.1\n",
        "ti=0\n",
        "tf=10\n",
        "yi=1\n",
        "\n",
        "#Sistema numérico\n",
        "t,y=euler(yi,h,g,ti,tf)\n",
        "plt.plot(t,y, label='S.N.')\n",
        "\n",
        "#sistema analítico\n",
        "plt.plot(t,np.power(2,t),label='S.A.')\n",
        "\n",
        "plt.legend()\n",
        "\n",
        "last_SN=y[-1]\n",
        "last_SA=np.power(2,t[-1])\n",
        "ER=last_SA-last_SN\n",
        "\n",
        "print('El error del método para un h= {} es de {}'.format(h,(ER)))"
      ],
      "execution_count": 38,
      "outputs": [
        {
          "output_type": "stream",
          "text": [
            "El error del método para un h= 0.1 es de 210.13110670005676\n"
          ],
          "name": "stdout"
        },
        {
          "output_type": "display_data",
          "data": {
            "image/png": "[encoded data removed]",
            "text/plain": [
              "<Figure size 432x288 with 1 Axes>"
            ]
          },
          "metadata": {
            "tags": [],
            "needs_background": "light"
          }
        }
      ]
    },
    {
      "cell_type": "code",
      "metadata": {
        "id": "jGqAodhKMDk2",
        "colab_type": "code",
        "colab": {
          "base_uri": "https://localhost:8080/",
          "height": 283
        },
        "outputId": "6ea1576b-350f-4e5c-b573-a17e95643354"
      },
      "source": [
        "def r(y):\n",
        "  k=2\n",
        "  m=1000\n",
        "  crecimiento=k*y*(1-(y/m))\n",
        "  return crecimiento\n",
        "\n",
        "# Inicialzar (Valores de las variables)\n",
        "h=0.1\n",
        "ti=0\n",
        "tf=10\n",
        "yi=1\n",
        "\n",
        "#Sistema numérico\n",
        "t,y=euler(yi,h,r,ti,tf)\n",
        "plt.plot(t,y, label='S.N.')\n",
        "\n",
        "plt.legend()\n"
      ],
      "execution_count": 52,
      "outputs": [
        {
          "output_type": "execute_result",
          "data": {
            "text/plain": [
              "<matplotlib.legend.Legend at 0x7f9aaa41f320>"
            ]
          },
          "metadata": {
            "tags": []
          },
          "execution_count": 52
        },
        {
          "output_type": "display_data",
          "data": {
            "image/png": "[encoded data removed]",
            "text/plain": [
              "<Figure size 432x288 with 1 Axes>"
            ]
          },
          "metadata": {
            "tags": [],
            "needs_background": "light"
          }
        }
      ]
    }
  ]
}